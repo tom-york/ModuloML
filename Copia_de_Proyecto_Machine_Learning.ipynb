{
  "cells": [
    {
      "cell_type": "code",
      "execution_count": 63,
      "metadata": {
        "colab": {
          "base_uri": "https://localhost:8080/",
          "height": 258
        },
        "id": "qTIvWcGG3cYP",
        "outputId": "874662f5-d8e2-47b1-9d13-c1477374382c"
      },
      "outputs": [],
      "source": [
        "import numpy as np\n",
        "import matplotlib.pyplot as plt\n",
        "import pandas as pd\n",
        "\n",
        "a1 = 'content/ANIME DATASET/anime.csv'\n",
        "a3 = 'content/ANIME DATASET/rating_complete.csv'\n",
        "\n",
        "\n",
        "anime = pd.read_csv(a1)\n",
        "anime_list = pd.read_csv(a3)\n",
        "\n",
        "\n",
        "anime = anime.drop(columns = [\"Score-1\"])\n",
        "anime = anime.drop(columns = [\"Score-2\"])\n",
        "anime = anime.drop(columns = [\"Score-3\"])\n",
        "anime = anime.drop(columns = [\"Score-4\"])\n",
        "anime = anime.drop(columns = [\"Score-5\"])\n",
        "anime = anime.drop(columns = [\"Score-6\"])\n",
        "anime = anime.drop(columns = [\"Score-7\"])\n",
        "anime = anime.drop(columns = [\"Score-8\"])\n",
        "anime = anime.drop(columns = [\"Score-9\"])\n",
        "anime = anime.drop(columns = [\"Score-10\"])\n",
        "anime = anime.drop(columns = [\"Aired\"])\n",
        "anime = anime.drop(columns = [\"Premiered\"])\n",
        "anime = anime.drop(columns = [\"Members\"])\n",
        "anime = anime.drop(columns = [\"Plan to Watch\"])\n",
        "anime = anime.drop(columns = [\"Dropped\"])\n",
        "anime = anime.drop(columns = [\"On-Hold\"])\n",
        "anime = anime.drop(columns = [\"Completed\"])\n",
        "anime = anime.drop(columns = [\"Watching\"])\n",
        "anime = anime.drop(columns = [\"Favorites\"])\n",
        "anime = anime.drop(columns = [\"Duration\"])\n",
        "anime = anime.drop(columns = [\"Source\"])\n",
        "anime = anime.drop(columns = [\"Studios\"])\n",
        "anime = anime.drop(columns = [\"Popularity\"])\n",
        "anime = anime.drop(columns = [\"Licensors\"])\n",
        "anime = anime.drop(columns = [\"Producers\"])\n",
        "anime = anime.drop(columns = [\"Japanese name\"])\n",
        "anime = anime.drop(columns = [\"English name\"])\n",
        "\n",
        "anime = anime.rename(columns={\"Rating\":\"Age_rate\"})\n",
        "anime = anime.rename(columns={'MAL_ID':\"anime_id\"})\n"
      ]
    },
    {
      "cell_type": "code",
      "execution_count": 64,
      "metadata": {},
      "outputs": [],
      "source": [
        "anime[\"Score\"] = anime[\"Score\"].apply(pd.to_numeric,errors=\"coerce\")\n",
        "anime[\"Episodes\"] = anime[\"Episodes\"].apply(pd.to_numeric,errors=\"coerce\")\n",
        "anime[\"Ranked\"] = anime[\"Ranked\"].apply(pd.to_numeric,errors=\"coerce\")"
      ]
    },
    {
      "cell_type": "code",
      "execution_count": 65,
      "metadata": {
        "colab": {
          "base_uri": "https://localhost:8080/"
        },
        "id": "11Yj_JrW8_J-",
        "outputId": "0488d7ef-cf55-47cd-cec7-784171bfb89a"
      },
      "outputs": [],
      "source": [
        "anime_merged = pd.merge(anime,anime_list,on='anime_id')"
      ]
    },
    {
      "cell_type": "code",
      "execution_count": 66,
      "metadata": {},
      "outputs": [
        {
          "data": {
            "text/html": [
              "<div>\n",
              "<style scoped>\n",
              "    .dataframe tbody tr th:only-of-type {\n",
              "        vertical-align: middle;\n",
              "    }\n",
              "\n",
              "    .dataframe tbody tr th {\n",
              "        vertical-align: top;\n",
              "    }\n",
              "\n",
              "    .dataframe thead th {\n",
              "        text-align: right;\n",
              "    }\n",
              "</style>\n",
              "<table border=\"1\" class=\"dataframe\">\n",
              "  <thead>\n",
              "    <tr style=\"text-align: right;\">\n",
              "      <th></th>\n",
              "      <th>user_id</th>\n",
              "      <th>anime_id</th>\n",
              "      <th>rating</th>\n",
              "    </tr>\n",
              "  </thead>\n",
              "  <tbody>\n",
              "    <tr>\n",
              "      <th>0</th>\n",
              "      <td>0</td>\n",
              "      <td>430</td>\n",
              "      <td>9</td>\n",
              "    </tr>\n",
              "    <tr>\n",
              "      <th>1</th>\n",
              "      <td>0</td>\n",
              "      <td>1004</td>\n",
              "      <td>5</td>\n",
              "    </tr>\n",
              "    <tr>\n",
              "      <th>2</th>\n",
              "      <td>0</td>\n",
              "      <td>3010</td>\n",
              "      <td>7</td>\n",
              "    </tr>\n",
              "    <tr>\n",
              "      <th>3</th>\n",
              "      <td>0</td>\n",
              "      <td>570</td>\n",
              "      <td>7</td>\n",
              "    </tr>\n",
              "    <tr>\n",
              "      <th>4</th>\n",
              "      <td>0</td>\n",
              "      <td>2762</td>\n",
              "      <td>9</td>\n",
              "    </tr>\n",
              "  </tbody>\n",
              "</table>\n",
              "</div>"
            ],
            "text/plain": [
              "   user_id  anime_id  rating\n",
              "0        0       430       9\n",
              "1        0      1004       5\n",
              "2        0      3010       7\n",
              "3        0       570       7\n",
              "4        0      2762       9"
            ]
          },
          "execution_count": 66,
          "metadata": {},
          "output_type": "execute_result"
        }
      ],
      "source": [
        "anime_list.head()"
      ]
    },
    {
      "cell_type": "code",
      "execution_count": 67,
      "metadata": {},
      "outputs": [
        {
          "data": {
            "text/html": [
              "<div>\n",
              "<style scoped>\n",
              "    .dataframe tbody tr th:only-of-type {\n",
              "        vertical-align: middle;\n",
              "    }\n",
              "\n",
              "    .dataframe tbody tr th {\n",
              "        vertical-align: top;\n",
              "    }\n",
              "\n",
              "    .dataframe thead th {\n",
              "        text-align: right;\n",
              "    }\n",
              "</style>\n",
              "<table border=\"1\" class=\"dataframe\">\n",
              "  <thead>\n",
              "    <tr style=\"text-align: right;\">\n",
              "      <th></th>\n",
              "      <th>anime_id</th>\n",
              "      <th>Name</th>\n",
              "      <th>Score</th>\n",
              "      <th>Genres</th>\n",
              "      <th>Type</th>\n",
              "      <th>Episodes</th>\n",
              "      <th>Age_rate</th>\n",
              "      <th>Ranked</th>\n",
              "    </tr>\n",
              "  </thead>\n",
              "  <tbody>\n",
              "    <tr>\n",
              "      <th>0</th>\n",
              "      <td>1</td>\n",
              "      <td>Cowboy Bebop</td>\n",
              "      <td>8.78</td>\n",
              "      <td>Action, Adventure, Comedy, Drama, Sci-Fi, Space</td>\n",
              "      <td>TV</td>\n",
              "      <td>26.0</td>\n",
              "      <td>R - 17+ (violence &amp; profanity)</td>\n",
              "      <td>28.0</td>\n",
              "    </tr>\n",
              "    <tr>\n",
              "      <th>1</th>\n",
              "      <td>5</td>\n",
              "      <td>Cowboy Bebop: Tengoku no Tobira</td>\n",
              "      <td>8.39</td>\n",
              "      <td>Action, Drama, Mystery, Sci-Fi, Space</td>\n",
              "      <td>Movie</td>\n",
              "      <td>1.0</td>\n",
              "      <td>R - 17+ (violence &amp; profanity)</td>\n",
              "      <td>159.0</td>\n",
              "    </tr>\n",
              "    <tr>\n",
              "      <th>2</th>\n",
              "      <td>6</td>\n",
              "      <td>Trigun</td>\n",
              "      <td>8.24</td>\n",
              "      <td>Action, Sci-Fi, Adventure, Comedy, Drama, Shounen</td>\n",
              "      <td>TV</td>\n",
              "      <td>26.0</td>\n",
              "      <td>PG-13 - Teens 13 or older</td>\n",
              "      <td>266.0</td>\n",
              "    </tr>\n",
              "    <tr>\n",
              "      <th>3</th>\n",
              "      <td>7</td>\n",
              "      <td>Witch Hunter Robin</td>\n",
              "      <td>7.27</td>\n",
              "      <td>Action, Mystery, Police, Supernatural, Drama, ...</td>\n",
              "      <td>TV</td>\n",
              "      <td>26.0</td>\n",
              "      <td>PG-13 - Teens 13 or older</td>\n",
              "      <td>2481.0</td>\n",
              "    </tr>\n",
              "    <tr>\n",
              "      <th>4</th>\n",
              "      <td>8</td>\n",
              "      <td>Bouken Ou Beet</td>\n",
              "      <td>6.98</td>\n",
              "      <td>Adventure, Fantasy, Shounen, Supernatural</td>\n",
              "      <td>TV</td>\n",
              "      <td>52.0</td>\n",
              "      <td>PG - Children</td>\n",
              "      <td>3710.0</td>\n",
              "    </tr>\n",
              "  </tbody>\n",
              "</table>\n",
              "</div>"
            ],
            "text/plain": [
              "   anime_id                             Name  Score  \\\n",
              "0         1                     Cowboy Bebop   8.78   \n",
              "1         5  Cowboy Bebop: Tengoku no Tobira   8.39   \n",
              "2         6                           Trigun   8.24   \n",
              "3         7               Witch Hunter Robin   7.27   \n",
              "4         8                   Bouken Ou Beet   6.98   \n",
              "\n",
              "                                              Genres   Type  Episodes  \\\n",
              "0    Action, Adventure, Comedy, Drama, Sci-Fi, Space     TV      26.0   \n",
              "1              Action, Drama, Mystery, Sci-Fi, Space  Movie       1.0   \n",
              "2  Action, Sci-Fi, Adventure, Comedy, Drama, Shounen     TV      26.0   \n",
              "3  Action, Mystery, Police, Supernatural, Drama, ...     TV      26.0   \n",
              "4          Adventure, Fantasy, Shounen, Supernatural     TV      52.0   \n",
              "\n",
              "                         Age_rate  Ranked  \n",
              "0  R - 17+ (violence & profanity)    28.0  \n",
              "1  R - 17+ (violence & profanity)   159.0  \n",
              "2       PG-13 - Teens 13 or older   266.0  \n",
              "3       PG-13 - Teens 13 or older  2481.0  \n",
              "4                   PG - Children  3710.0  "
            ]
          },
          "execution_count": 67,
          "metadata": {},
          "output_type": "execute_result"
        }
      ],
      "source": [
        "anime.head()"
      ]
    },
    {
      "cell_type": "code",
      "execution_count": 75,
      "metadata": {},
      "outputs": [
        {
          "data": {
            "text/html": [
              "<div>\n",
              "<style scoped>\n",
              "    .dataframe tbody tr th:only-of-type {\n",
              "        vertical-align: middle;\n",
              "    }\n",
              "\n",
              "    .dataframe tbody tr th {\n",
              "        vertical-align: top;\n",
              "    }\n",
              "\n",
              "    .dataframe thead th {\n",
              "        text-align: right;\n",
              "    }\n",
              "</style>\n",
              "<table border=\"1\" class=\"dataframe\">\n",
              "  <thead>\n",
              "    <tr style=\"text-align: right;\">\n",
              "      <th></th>\n",
              "      <th>anime_id</th>\n",
              "      <th>Name</th>\n",
              "      <th>Score</th>\n",
              "      <th>Genres</th>\n",
              "      <th>Type</th>\n",
              "      <th>Episodes</th>\n",
              "      <th>Age_rate</th>\n",
              "      <th>Ranked</th>\n",
              "      <th>user_id</th>\n",
              "      <th>rating</th>\n",
              "    </tr>\n",
              "  </thead>\n",
              "  <tbody>\n",
              "    <tr>\n",
              "      <th>0</th>\n",
              "      <td>1</td>\n",
              "      <td>Cowboy Bebop</td>\n",
              "      <td>8.78</td>\n",
              "      <td>Action, Adventure, Comedy, Drama, Sci-Fi, Space</td>\n",
              "      <td>TV</td>\n",
              "      <td>26.0</td>\n",
              "      <td>R - 17+ (violence &amp; profanity)</td>\n",
              "      <td>28.0</td>\n",
              "      <td>3</td>\n",
              "      <td>9</td>\n",
              "    </tr>\n",
              "    <tr>\n",
              "      <th>1</th>\n",
              "      <td>1</td>\n",
              "      <td>Cowboy Bebop</td>\n",
              "      <td>8.78</td>\n",
              "      <td>Action, Adventure, Comedy, Drama, Sci-Fi, Space</td>\n",
              "      <td>TV</td>\n",
              "      <td>26.0</td>\n",
              "      <td>R - 17+ (violence &amp; profanity)</td>\n",
              "      <td>28.0</td>\n",
              "      <td>6</td>\n",
              "      <td>6</td>\n",
              "    </tr>\n",
              "    <tr>\n",
              "      <th>2</th>\n",
              "      <td>1</td>\n",
              "      <td>Cowboy Bebop</td>\n",
              "      <td>8.78</td>\n",
              "      <td>Action, Adventure, Comedy, Drama, Sci-Fi, Space</td>\n",
              "      <td>TV</td>\n",
              "      <td>26.0</td>\n",
              "      <td>R - 17+ (violence &amp; profanity)</td>\n",
              "      <td>28.0</td>\n",
              "      <td>14</td>\n",
              "      <td>9</td>\n",
              "    </tr>\n",
              "    <tr>\n",
              "      <th>3</th>\n",
              "      <td>1</td>\n",
              "      <td>Cowboy Bebop</td>\n",
              "      <td>8.78</td>\n",
              "      <td>Action, Adventure, Comedy, Drama, Sci-Fi, Space</td>\n",
              "      <td>TV</td>\n",
              "      <td>26.0</td>\n",
              "      <td>R - 17+ (violence &amp; profanity)</td>\n",
              "      <td>28.0</td>\n",
              "      <td>19</td>\n",
              "      <td>8</td>\n",
              "    </tr>\n",
              "    <tr>\n",
              "      <th>4</th>\n",
              "      <td>1</td>\n",
              "      <td>Cowboy Bebop</td>\n",
              "      <td>8.78</td>\n",
              "      <td>Action, Adventure, Comedy, Drama, Sci-Fi, Space</td>\n",
              "      <td>TV</td>\n",
              "      <td>26.0</td>\n",
              "      <td>R - 17+ (violence &amp; profanity)</td>\n",
              "      <td>28.0</td>\n",
              "      <td>22</td>\n",
              "      <td>9</td>\n",
              "    </tr>\n",
              "    <tr>\n",
              "      <th>5</th>\n",
              "      <td>1</td>\n",
              "      <td>Cowboy Bebop</td>\n",
              "      <td>8.78</td>\n",
              "      <td>Action, Adventure, Comedy, Drama, Sci-Fi, Space</td>\n",
              "      <td>TV</td>\n",
              "      <td>26.0</td>\n",
              "      <td>R - 17+ (violence &amp; profanity)</td>\n",
              "      <td>28.0</td>\n",
              "      <td>23</td>\n",
              "      <td>9</td>\n",
              "    </tr>\n",
              "    <tr>\n",
              "      <th>6</th>\n",
              "      <td>1</td>\n",
              "      <td>Cowboy Bebop</td>\n",
              "      <td>8.78</td>\n",
              "      <td>Action, Adventure, Comedy, Drama, Sci-Fi, Space</td>\n",
              "      <td>TV</td>\n",
              "      <td>26.0</td>\n",
              "      <td>R - 17+ (violence &amp; profanity)</td>\n",
              "      <td>28.0</td>\n",
              "      <td>44</td>\n",
              "      <td>9</td>\n",
              "    </tr>\n",
              "    <tr>\n",
              "      <th>7</th>\n",
              "      <td>1</td>\n",
              "      <td>Cowboy Bebop</td>\n",
              "      <td>8.78</td>\n",
              "      <td>Action, Adventure, Comedy, Drama, Sci-Fi, Space</td>\n",
              "      <td>TV</td>\n",
              "      <td>26.0</td>\n",
              "      <td>R - 17+ (violence &amp; profanity)</td>\n",
              "      <td>28.0</td>\n",
              "      <td>53</td>\n",
              "      <td>10</td>\n",
              "    </tr>\n",
              "    <tr>\n",
              "      <th>8</th>\n",
              "      <td>1</td>\n",
              "      <td>Cowboy Bebop</td>\n",
              "      <td>8.78</td>\n",
              "      <td>Action, Adventure, Comedy, Drama, Sci-Fi, Space</td>\n",
              "      <td>TV</td>\n",
              "      <td>26.0</td>\n",
              "      <td>R - 17+ (violence &amp; profanity)</td>\n",
              "      <td>28.0</td>\n",
              "      <td>57</td>\n",
              "      <td>9</td>\n",
              "    </tr>\n",
              "    <tr>\n",
              "      <th>9</th>\n",
              "      <td>1</td>\n",
              "      <td>Cowboy Bebop</td>\n",
              "      <td>8.78</td>\n",
              "      <td>Action, Adventure, Comedy, Drama, Sci-Fi, Space</td>\n",
              "      <td>TV</td>\n",
              "      <td>26.0</td>\n",
              "      <td>R - 17+ (violence &amp; profanity)</td>\n",
              "      <td>28.0</td>\n",
              "      <td>62</td>\n",
              "      <td>10</td>\n",
              "    </tr>\n",
              "    <tr>\n",
              "      <th>10</th>\n",
              "      <td>1</td>\n",
              "      <td>Cowboy Bebop</td>\n",
              "      <td>8.78</td>\n",
              "      <td>Action, Adventure, Comedy, Drama, Sci-Fi, Space</td>\n",
              "      <td>TV</td>\n",
              "      <td>26.0</td>\n",
              "      <td>R - 17+ (violence &amp; profanity)</td>\n",
              "      <td>28.0</td>\n",
              "      <td>65</td>\n",
              "      <td>10</td>\n",
              "    </tr>\n",
              "    <tr>\n",
              "      <th>11</th>\n",
              "      <td>1</td>\n",
              "      <td>Cowboy Bebop</td>\n",
              "      <td>8.78</td>\n",
              "      <td>Action, Adventure, Comedy, Drama, Sci-Fi, Space</td>\n",
              "      <td>TV</td>\n",
              "      <td>26.0</td>\n",
              "      <td>R - 17+ (violence &amp; profanity)</td>\n",
              "      <td>28.0</td>\n",
              "      <td>73</td>\n",
              "      <td>9</td>\n",
              "    </tr>\n",
              "    <tr>\n",
              "      <th>12</th>\n",
              "      <td>1</td>\n",
              "      <td>Cowboy Bebop</td>\n",
              "      <td>8.78</td>\n",
              "      <td>Action, Adventure, Comedy, Drama, Sci-Fi, Space</td>\n",
              "      <td>TV</td>\n",
              "      <td>26.0</td>\n",
              "      <td>R - 17+ (violence &amp; profanity)</td>\n",
              "      <td>28.0</td>\n",
              "      <td>77</td>\n",
              "      <td>7</td>\n",
              "    </tr>\n",
              "    <tr>\n",
              "      <th>13</th>\n",
              "      <td>1</td>\n",
              "      <td>Cowboy Bebop</td>\n",
              "      <td>8.78</td>\n",
              "      <td>Action, Adventure, Comedy, Drama, Sci-Fi, Space</td>\n",
              "      <td>TV</td>\n",
              "      <td>26.0</td>\n",
              "      <td>R - 17+ (violence &amp; profanity)</td>\n",
              "      <td>28.0</td>\n",
              "      <td>85</td>\n",
              "      <td>9</td>\n",
              "    </tr>\n",
              "    <tr>\n",
              "      <th>14</th>\n",
              "      <td>1</td>\n",
              "      <td>Cowboy Bebop</td>\n",
              "      <td>8.78</td>\n",
              "      <td>Action, Adventure, Comedy, Drama, Sci-Fi, Space</td>\n",
              "      <td>TV</td>\n",
              "      <td>26.0</td>\n",
              "      <td>R - 17+ (violence &amp; profanity)</td>\n",
              "      <td>28.0</td>\n",
              "      <td>89</td>\n",
              "      <td>10</td>\n",
              "    </tr>\n",
              "  </tbody>\n",
              "</table>\n",
              "</div>"
            ],
            "text/plain": [
              "    anime_id          Name  Score  \\\n",
              "0          1  Cowboy Bebop   8.78   \n",
              "1          1  Cowboy Bebop   8.78   \n",
              "2          1  Cowboy Bebop   8.78   \n",
              "3          1  Cowboy Bebop   8.78   \n",
              "4          1  Cowboy Bebop   8.78   \n",
              "5          1  Cowboy Bebop   8.78   \n",
              "6          1  Cowboy Bebop   8.78   \n",
              "7          1  Cowboy Bebop   8.78   \n",
              "8          1  Cowboy Bebop   8.78   \n",
              "9          1  Cowboy Bebop   8.78   \n",
              "10         1  Cowboy Bebop   8.78   \n",
              "11         1  Cowboy Bebop   8.78   \n",
              "12         1  Cowboy Bebop   8.78   \n",
              "13         1  Cowboy Bebop   8.78   \n",
              "14         1  Cowboy Bebop   8.78   \n",
              "\n",
              "                                             Genres Type  Episodes  \\\n",
              "0   Action, Adventure, Comedy, Drama, Sci-Fi, Space   TV      26.0   \n",
              "1   Action, Adventure, Comedy, Drama, Sci-Fi, Space   TV      26.0   \n",
              "2   Action, Adventure, Comedy, Drama, Sci-Fi, Space   TV      26.0   \n",
              "3   Action, Adventure, Comedy, Drama, Sci-Fi, Space   TV      26.0   \n",
              "4   Action, Adventure, Comedy, Drama, Sci-Fi, Space   TV      26.0   \n",
              "5   Action, Adventure, Comedy, Drama, Sci-Fi, Space   TV      26.0   \n",
              "6   Action, Adventure, Comedy, Drama, Sci-Fi, Space   TV      26.0   \n",
              "7   Action, Adventure, Comedy, Drama, Sci-Fi, Space   TV      26.0   \n",
              "8   Action, Adventure, Comedy, Drama, Sci-Fi, Space   TV      26.0   \n",
              "9   Action, Adventure, Comedy, Drama, Sci-Fi, Space   TV      26.0   \n",
              "10  Action, Adventure, Comedy, Drama, Sci-Fi, Space   TV      26.0   \n",
              "11  Action, Adventure, Comedy, Drama, Sci-Fi, Space   TV      26.0   \n",
              "12  Action, Adventure, Comedy, Drama, Sci-Fi, Space   TV      26.0   \n",
              "13  Action, Adventure, Comedy, Drama, Sci-Fi, Space   TV      26.0   \n",
              "14  Action, Adventure, Comedy, Drama, Sci-Fi, Space   TV      26.0   \n",
              "\n",
              "                          Age_rate  Ranked  user_id  rating  \n",
              "0   R - 17+ (violence & profanity)    28.0        3       9  \n",
              "1   R - 17+ (violence & profanity)    28.0        6       6  \n",
              "2   R - 17+ (violence & profanity)    28.0       14       9  \n",
              "3   R - 17+ (violence & profanity)    28.0       19       8  \n",
              "4   R - 17+ (violence & profanity)    28.0       22       9  \n",
              "5   R - 17+ (violence & profanity)    28.0       23       9  \n",
              "6   R - 17+ (violence & profanity)    28.0       44       9  \n",
              "7   R - 17+ (violence & profanity)    28.0       53      10  \n",
              "8   R - 17+ (violence & profanity)    28.0       57       9  \n",
              "9   R - 17+ (violence & profanity)    28.0       62      10  \n",
              "10  R - 17+ (violence & profanity)    28.0       65      10  \n",
              "11  R - 17+ (violence & profanity)    28.0       73       9  \n",
              "12  R - 17+ (violence & profanity)    28.0       77       7  \n",
              "13  R - 17+ (violence & profanity)    28.0       85       9  \n",
              "14  R - 17+ (violence & profanity)    28.0       89      10  "
            ]
          },
          "execution_count": 75,
          "metadata": {},
          "output_type": "execute_result"
        }
      ],
      "source": [
        "anime_merged.head(n=15)"
      ]
    },
    {
      "cell_type": "code",
      "execution_count": 69,
      "metadata": {
        "colab": {
          "base_uri": "https://localhost:8080/",
          "height": 197
        },
        "id": "Fw0G_UFODOG6",
        "outputId": "bacb8b50-1646-4304-9497-217eb7d69af3"
      },
      "outputs": [
        {
          "name": "stdout",
          "output_type": "stream",
          "text": [
            "<class 'pandas.core.frame.DataFrame'>\n",
            "RangeIndex: 57633278 entries, 0 to 57633277\n",
            "Data columns (total 10 columns):\n",
            " #   Column    Dtype  \n",
            "---  ------    -----  \n",
            " 0   anime_id  int64  \n",
            " 1   Name      object \n",
            " 2   Score     float64\n",
            " 3   Genres    object \n",
            " 4   Type      object \n",
            " 5   Episodes  float64\n",
            " 6   Age_rate  object \n",
            " 7   Ranked    float64\n",
            " 8   user_id   int64  \n",
            " 9   rating    int64  \n",
            "dtypes: float64(3), int64(3), object(4)\n",
            "memory usage: 4.3+ GB\n"
          ]
        }
      ],
      "source": [
        "anime_merged.info()"
      ]
    },
    {
      "cell_type": "code",
      "execution_count": 70,
      "metadata": {},
      "outputs": [
        {
          "data": {
            "text/plain": [
              "Text(0.5, 1.0, 'Ratings')"
            ]
          },
          "execution_count": 70,
          "metadata": {},
          "output_type": "execute_result"
        },
        {
          "data": {
            "image/png": "[encoded data removed]",
            "text/plain": [
              "<Figure size 640x480 with 1 Axes>"
            ]
          },
          "metadata": {},
          "output_type": "display_data"
        }
      ],
      "source": [
        "anime_list.hist(column='rating', grid=False, label=\"Ratings\")\n",
        "plt.title('Ratings')"
      ]
    },
    {
      "cell_type": "code",
      "execution_count": 84,
      "metadata": {},
      "outputs": [
        {
          "data": {
            "text/plain": [
              "Text(0.5, 1.0, 'Score')"
            ]
          },
          "execution_count": 84,
          "metadata": {},
          "output_type": "execute_result"
        },
        {
          "data": {
            "image/png": "[encoded data removed]",
            "text/plain": [
              "<Figure size 640x480 with 1 Axes>"
            ]
          },
          "metadata": {},
          "output_type": "display_data"
        }
      ],
      "source": [
        "anime['Score'].hist(bins=80, grid=False)\n",
        "plt.title('Score')"
      ]
    },
    {
      "cell_type": "code",
      "execution_count": 85,
      "metadata": {},
      "outputs": [
        {
          "data": {
            "text/plain": [
              "Text(0.5, 1.0, 'Type')"
            ]
          },
          "execution_count": 85,
          "metadata": {},
          "output_type": "execute_result"
        },
        {
          "data": {
            "image/png": "[encoded data removed]",
            "text/plain": [
              "<Figure size 640x480 with 1 Axes>"
            ]
          },
          "metadata": {},
          "output_type": "display_data"
        }
      ],
      "source": [
        "fig, ax = plt.subplots()\n",
        "anime_merged['Type'].value_counts().plot(ax=ax, kind='bar')\n",
        "ax.set_title('Type')"
      ]
    },
    {
      "cell_type": "code",
      "execution_count": 72,
      "metadata": {},
      "outputs": [
        {
          "data": {
            "text/plain": [
              "Text(0.5, 1.0, 'Age rate')"
            ]
          },
          "execution_count": 72,
          "metadata": {},
          "output_type": "execute_result"
        },
        {
          "data": {
            "image/png": "[encoded data removed]",
            "text/plain": [
              "<Figure size 640x480 with 1 Axes>"
            ]
          },
          "metadata": {},
          "output_type": "display_data"
        }
      ],
      "source": [
        "fig, ax = plt.subplots()\n",
        "anime_merged['Age_rate'].value_counts().plot(ax=ax, kind='bar')\n",
        "ax.set_title('Age rate')"
      ]
    }
  ],
  "metadata": {
    "colab": {
      "provenance": []
    },
    "kernelspec": {
      "display_name": "Python 3",
      "name": "python3"
    },
    "language_info": {
      "codemirror_mode": {
        "name": "ipython",
        "version": 3
      },
      "file_extension": ".py",
      "mimetype": "text/x-python",
      "name": "python",
      "nbconvert_exporter": "python",
      "pygments_lexer": "ipython3",
      "version": "3.11.4"
    }
  },
  "nbformat": 4,
  "nbformat_minor": 0
}
