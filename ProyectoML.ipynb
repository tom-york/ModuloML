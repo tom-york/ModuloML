{
 "cells": [
  {
   "cell_type": "code",
   "execution_count": 2,
   "metadata": {},
   "outputs": [],
   "source": [
    "import numpy as np\n",
    "import matplotlib.pyplot as plt\n",
    "import pandas as pd\n",
    "\n",
    "a1 = 'content/ANIME DATASET/anime.csv'\n",
    "a3 = 'content/ANIME DATASET/rating_complete.csv'\n",
    "\n",
    "\n",
    "anime = pd.read_csv(a1)\n",
    "anime_list = pd.read_csv(a3)\n",
    "\n",
    "\n",
    "anime = anime.drop(columns = [\"Score-1\"])\n",
    "anime = anime.drop(columns = [\"Score-2\"])\n",
    "anime = anime.drop(columns = [\"Score-3\"])\n",
    "anime = anime.drop(columns = [\"Score-4\"])\n",
    "anime = anime.drop(columns = [\"Score-5\"])\n",
    "anime = anime.drop(columns = [\"Score-6\"])\n",
    "anime = anime.drop(columns = [\"Score-7\"])\n",
    "anime = anime.drop(columns = [\"Score-8\"])\n",
    "anime = anime.drop(columns = [\"Score-9\"])\n",
    "anime = anime.drop(columns = [\"Score-10\"])\n",
    "anime = anime.drop(columns = [\"Aired\"])\n",
    "anime = anime.drop(columns = [\"Premiered\"])\n",
    "anime = anime.drop(columns = [\"Members\"])\n",
    "anime = anime.drop(columns = [\"Plan to Watch\"])\n",
    "anime = anime.drop(columns = [\"Dropped\"])\n",
    "anime = anime.drop(columns = [\"On-Hold\"])\n",
    "anime = anime.drop(columns = [\"Completed\"])\n",
    "anime = anime.drop(columns = [\"Watching\"])\n",
    "anime = anime.drop(columns = [\"Favorites\"])\n",
    "anime = anime.drop(columns = [\"Duration\"])\n",
    "anime = anime.drop(columns = [\"Source\"])\n",
    "anime = anime.drop(columns = [\"Studios\"])\n",
    "anime = anime.drop(columns = [\"Popularity\"])\n",
    "anime = anime.drop(columns = [\"Licensors\"])\n",
    "anime = anime.drop(columns = [\"Producers\"])\n",
    "anime = anime.drop(columns = [\"Japanese name\"])\n",
    "anime = anime.drop(columns = [\"English name\"])\n",
    "\n",
    "anime = anime.rename(columns={\"Rating\":\"Age_rate\"})\n",
    "anime = anime.rename(columns={'MAL_ID':\"anime_id\"})\n"
   ]
  },
  {
   "cell_type": "code",
   "execution_count": 3,
   "metadata": {},
   "outputs": [],
   "source": [
    "anime[\"Score\"] = anime[\"Score\"].apply(pd.to_numeric,errors=\"coerce\")\n",
    "anime[\"Episodes\"] = anime[\"Episodes\"].apply(pd.to_numeric,errors=\"coerce\")\n",
    "anime[\"Ranked\"] = anime[\"Ranked\"].apply(pd.to_numeric,errors=\"coerce\")"
   ]
  },
  {
   "cell_type": "code",
   "execution_count": 4,
   "metadata": {},
   "outputs": [],
   "source": [
    "anime_merged = pd.merge(anime,anime_list,on='anime_id')"
   ]
  },
  {
   "cell_type": "code",
   "execution_count": 5,
   "metadata": {},
   "outputs": [
    {
     "name": "stdout",
     "output_type": "stream",
     "text": [
      "<class 'pandas.core.frame.DataFrame'>\n",
      "RangeIndex: 57633278 entries, 0 to 57633277\n",
      "Data columns (total 10 columns):\n",
      " #   Column    Dtype  \n",
      "---  ------    -----  \n",
      " 0   anime_id  int64  \n",
      " 1   Name      object \n",
      " 2   Score     float64\n",
      " 3   Genres    object \n",
      " 4   Type      object \n",
      " 5   Episodes  float64\n",
      " 6   Age_rate  object \n",
      " 7   Ranked    float64\n",
      " 8   user_id   int64  \n",
      " 9   rating    int64  \n",
      "dtypes: float64(3), int64(3), object(4)\n",
      "memory usage: 4.3+ GB\n"
     ]
    }
   ],
   "source": [
    "anime_merged.info()"
   ]
  },
  {
   "cell_type": "code",
   "execution_count": 9,
   "metadata": {},
   "outputs": [
    {
     "data": {
      "text/plain": [
       "array(['Action, Adventure, Comedy, Drama, Sci-Fi, Space',\n",
       "       'Action, Drama, Mystery, Sci-Fi, Space',\n",
       "       'Action, Sci-Fi, Adventure, Comedy, Drama, Shounen', ...,\n",
       "       'Horror, Demons, Supernatural, Thriller', 'Sci-Fi, Space, Vampire',\n",
       "       'Adventure, Mystery, Supernatural'], dtype=object)"
      ]
     },
     "execution_count": 9,
     "metadata": {},
     "output_type": "execute_result"
    }
   ],
   "source": [
    "anime[\"Genres\"].unique()"
   ]
  },
  {
   "cell_type": "code",
   "execution_count": 12,
   "metadata": {},
   "outputs": [
    {
     "data": {
      "text/plain": [
       "Text(0.5, 1.0, 'usuario_id')"
      ]
     },
     "execution_count": 12,
     "metadata": {},
     "output_type": "execute_result"
    },
    {
     "data": {
      "image/png": "[encoded data removed]",
      "text/plain": [
       "<Figure size 640x480 with 1 Axes>"
      ]
     },
     "metadata": {},
     "output_type": "display_data"
    }
   ],
   "source": [
    "anime_list['user_id'].hist(bins=80, grid=False)\n",
    "plt.title('usuario_id')"
   ]
  }
 ],
 "metadata": {
  "kernelspec": {
   "display_name": "base",
   "language": "python",
   "name": "python3"
  },
  "language_info": {
   "codemirror_mode": {
    "name": "ipython",
    "version": 3
   },
   "file_extension": ".py",
   "mimetype": "text/x-python",
   "name": "python",
   "nbconvert_exporter": "python",
   "pygments_lexer": "ipython3",
   "version": "3.11.4"
  }
 },
 "nbformat": 4,
 "nbformat_minor": 2
}
